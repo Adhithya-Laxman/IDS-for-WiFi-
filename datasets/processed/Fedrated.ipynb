{
 "cells": [
  {
   "cell_type": "code",
   "execution_count": 4,
   "id": "ffbadc54-75cd-498b-b791-57688225e362",
   "metadata": {},
   "outputs": [
    {
     "name": "stderr",
     "output_type": "stream",
     "text": [
      "C:\\Users\\Kavya\\AppData\\Local\\Temp\\ipykernel_24252\\1802709659.py:5: DtypeWarning: Columns (37,38,39,40,41,42,43,44,45,47,48,49,50,51,52,53,54,55,56,57,58,59,60,61,62,74,88) have mixed types. Specify dtype option on import or set low_memory=False.\n",
      "  df = pd.read_csv(file_path)\n",
      "C:\\Users\\Kavya\\AppData\\Local\\Temp\\ipykernel_24252\\1802709659.py:7: FutureWarning: Downcasting behavior in `replace` is deprecated and will be removed in a future version. To retain the old behavior, explicitly call `result.infer_objects(copy=False)`. To opt-in to the future behavior, set `pd.set_option('future.no_silent_downcasting', True)`\n",
      "  df.replace('?', 0, inplace=True)\n"
     ]
    },
    {
     "name": "stdout",
     "output_type": "stream",
     "text": [
      "   0  ?  0.000000000  1393661302.645757000  0.000000000.1  0.000000000.2  \\\n",
      "0  0  0          0.0          1.393661e+09       0.024271       0.024271   \n",
      "1  0  0          0.0          1.393661e+09       0.001631       0.001631   \n",
      "2  0  0          0.0          1.393661e+09       0.055325       0.055325   \n",
      "3  0  0          0.0          1.393661e+09       0.000415       0.000415   \n",
      "4  0  0          0.0          1.393661e+09       0.000005       0.000005   \n",
      "\n",
      "   0.000000000.3  261  261.1  0.1  ...  ?.40  ?.41  ?.42  ?.43  ?.44  ?.45  \\\n",
      "0       0.024271  185    185    0  ...     0     0     0     0     0     0   \n",
      "1       0.025902  185    185    0  ...     0     0     0     0     0     0   \n",
      "2       0.081227  159    159    0  ...     0     0     0     0     0     0   \n",
      "3       0.081642   54     54    0  ...     0     0     0     0     0     0   \n",
      "4       0.081647   40     40    0  ...     0     0     0     0     0     0   \n",
      "\n",
      "   ?.46  ?.47  ?.48  normal  \n",
      "0     0     0     0  normal  \n",
      "1     0     0     0  normal  \n",
      "2     0     0     0  normal  \n",
      "3     0     0     0  normal  \n",
      "4     0     0     0  normal  \n",
      "\n",
      "[5 rows x 155 columns]\n"
     ]
    }
   ],
   "source": [
    "import pandas as pd\n",
    "file_path=r'C:\\Users\\Kavya\\Documents\\Training.csv'\n",
    "df = pd.read_csv(file_path)\n",
    "df.replace('?', 0, inplace=True)\n",
    "df.to_csv('Training_cleaned.csv', index=False)\n",
    "print(df.head())\n"
   ]
  },
  {
   "cell_type": "code",
   "execution_count": 2,
   "id": "477d46c5-4d16-4ef1-b009-1005d8f3bf55",
   "metadata": {},
   "outputs": [
    {
     "name": "stdout",
     "output_type": "stream",
     "text": [
      "C:\\Users\\Kavya\\Documents\n"
     ]
    }
   ],
   "source": [
    "import os\n",
    "print(os.getcwd())\n"
   ]
  },
  {
   "cell_type": "code",
   "execution_count": 5,
   "id": "5d6fd84a-196d-4ad2-842c-0b8cf2b4a71d",
   "metadata": {},
   "outputs": [
    {
     "name": "stdout",
     "output_type": "stream",
     "text": [
      "1795574\n"
     ]
    }
   ],
   "source": [
    "a=df.shape[0]\n",
    "print(a)"
   ]
  },
  {
   "cell_type": "code",
   "execution_count": 6,
   "id": "fd236523-e99a-4647-bce7-0eab0bcc5163",
   "metadata": {},
   "outputs": [
    {
     "name": "stdout",
     "output_type": "stream",
     "text": [
      "0                       0\n",
      "?                       0\n",
      "0.000000000             0\n",
      "1393661302.645757000    0\n",
      "0.000000000.1           0\n",
      "                       ..\n",
      "?.45                    0\n",
      "?.46                    0\n",
      "?.47                    0\n",
      "?.48                    0\n",
      "normal                  0\n",
      "Length: 155, dtype: int64\n"
     ]
    }
   ],
   "source": [
    "\n",
    "count = df.apply(lambda col: (col == '?').sum())\n",
    "print(count)\n"
   ]
  },
  {
   "cell_type": "code",
   "execution_count": 7,
   "id": "23db65b8-061d-4b5c-93bf-fb145ea45160",
   "metadata": {},
   "outputs": [
    {
     "name": "stdout",
     "output_type": "stream",
     "text": [
      "Are there any '?' in the DataFrame? False\n"
     ]
    }
   ],
   "source": [
    "\n",
    "mark = df.isin(['?']).any().any()\n",
    "print(f\"'?' in the DataFrame {mark}\")\n"
   ]
  },
  {
   "cell_type": "code",
   "execution_count": 10,
   "id": "59b7d968-66c1-49ef-8262-3dab0a31494c",
   "metadata": {},
   "outputs": [
    {
     "data": {
      "image/png": "[encoded data removed]",
      "text/plain": [
       "<Figure size 1000x600 with 1 Axes>"
      ]
     },
     "metadata": {},
     "output_type": "display_data"
    }
   ],
   "source": [
    "import pandas as pd\n",
    "import matplotlib.pyplot as plt\n",
    "\n",
    "\n",
    "classcounts = df.iloc[:, -1].value_counts()  \n",
    "\n",
    "plt.figure(figsize=(10, 6))\n",
    "classcounts.plot(kind='bar', color=['blue', 'orange','pink','green'])  \n",
    "plt.title('main project')\n",
    "plt.xlabel('Class')\n",
    "plt.ylabel('Instances')\n",
    "plt.xticks(rotation=0)  \n",
    "plt.grid(axis='y')\n",
    "\n",
    "\n",
    "plt.show()\n"
   ]
  },
  {
   "cell_type": "code",
   "execution_count": 23,
   "id": "40a7c808-afdd-45ac-9692-d870adeb9582",
   "metadata": {},
   "outputs": [
    {
     "ename": "ValueError",
     "evalue": "a must be greater than 0 unless no samples are taken",
     "output_type": "error",
     "traceback": [
      "\u001b[1;31m---------------------------------------------------------------------------\u001b[0m",
      "\u001b[1;31mValueError\u001b[0m                                Traceback (most recent call last)",
      "Cell \u001b[1;32mIn[23], line 4\u001b[0m\n\u001b[0;32m      1\u001b[0m normalinstances \u001b[38;5;241m=\u001b[39m df[df\u001b[38;5;241m.\u001b[39miloc[:, \u001b[38;5;241m-\u001b[39m\u001b[38;5;241m1\u001b[39m] \u001b[38;5;241m==\u001b[39m \u001b[38;5;124m'\u001b[39m\u001b[38;5;124mnormal\u001b[39m\u001b[38;5;124m'\u001b[39m]  \n\u001b[0;32m      2\u001b[0m attackinstances \u001b[38;5;241m=\u001b[39m df[df\u001b[38;5;241m.\u001b[39miloc[:, \u001b[38;5;241m-\u001b[39m\u001b[38;5;241m1\u001b[39m] \u001b[38;5;241m!=\u001b[39m \u001b[38;5;124m'\u001b[39m\u001b[38;5;124mnormal\u001b[39m\u001b[38;5;124m'\u001b[39m]\n\u001b[1;32m----> 4\u001b[0m normalsampled \u001b[38;5;241m=\u001b[39m \u001b[43mnormalinstances\u001b[49m\u001b[38;5;241;43m.\u001b[39;49m\u001b[43msample\u001b[49m\u001b[43m(\u001b[49m\u001b[43mn\u001b[49m\u001b[38;5;241;43m=\u001b[39;49m\u001b[38;5;241;43m163319\u001b[39;49m\u001b[43m,\u001b[49m\u001b[43m \u001b[49m\u001b[43mrandom_state\u001b[49m\u001b[38;5;241;43m=\u001b[39;49m\u001b[38;5;241;43m42\u001b[39;49m\u001b[43m)\u001b[49m  \n\u001b[0;32m      6\u001b[0m balanceddf \u001b[38;5;241m=\u001b[39m pd\u001b[38;5;241m.\u001b[39mconcat([normalsampled, attackinstances])\n\u001b[0;32m      8\u001b[0m balanceddf \u001b[38;5;241m=\u001b[39m balanced_df\u001b[38;5;241m.\u001b[39msample(frac\u001b[38;5;241m=\u001b[39m\u001b[38;5;241m1\u001b[39m, random_state\u001b[38;5;241m=\u001b[39m\u001b[38;5;241m42\u001b[39m)\u001b[38;5;241m.\u001b[39mreset_index(drop\u001b[38;5;241m=\u001b[39m\u001b[38;5;28;01mTrue\u001b[39;00m)\n",
      "File \u001b[1;32m~\\AppData\\Roaming\\Python\\Python312\\site-packages\\pandas\\core\\generic.py:6112\u001b[0m, in \u001b[0;36mNDFrame.sample\u001b[1;34m(self, n, frac, replace, weights, random_state, axis, ignore_index)\u001b[0m\n\u001b[0;32m   6109\u001b[0m \u001b[38;5;28;01mif\u001b[39;00m weights \u001b[38;5;129;01mis\u001b[39;00m \u001b[38;5;129;01mnot\u001b[39;00m \u001b[38;5;28;01mNone\u001b[39;00m:\n\u001b[0;32m   6110\u001b[0m     weights \u001b[38;5;241m=\u001b[39m sample\u001b[38;5;241m.\u001b[39mpreprocess_weights(\u001b[38;5;28mself\u001b[39m, weights, axis)\n\u001b[1;32m-> 6112\u001b[0m sampled_indices \u001b[38;5;241m=\u001b[39m \u001b[43msample\u001b[49m\u001b[38;5;241;43m.\u001b[39;49m\u001b[43msample\u001b[49m\u001b[43m(\u001b[49m\u001b[43mobj_len\u001b[49m\u001b[43m,\u001b[49m\u001b[43m \u001b[49m\u001b[43msize\u001b[49m\u001b[43m,\u001b[49m\u001b[43m \u001b[49m\u001b[43mreplace\u001b[49m\u001b[43m,\u001b[49m\u001b[43m \u001b[49m\u001b[43mweights\u001b[49m\u001b[43m,\u001b[49m\u001b[43m \u001b[49m\u001b[43mrs\u001b[49m\u001b[43m)\u001b[49m\n\u001b[0;32m   6113\u001b[0m result \u001b[38;5;241m=\u001b[39m \u001b[38;5;28mself\u001b[39m\u001b[38;5;241m.\u001b[39mtake(sampled_indices, axis\u001b[38;5;241m=\u001b[39maxis)\n\u001b[0;32m   6115\u001b[0m \u001b[38;5;28;01mif\u001b[39;00m ignore_index:\n",
      "File \u001b[1;32m~\\AppData\\Roaming\\Python\\Python312\\site-packages\\pandas\\core\\sample.py:152\u001b[0m, in \u001b[0;36msample\u001b[1;34m(obj_len, size, replace, weights, random_state)\u001b[0m\n\u001b[0;32m    149\u001b[0m     \u001b[38;5;28;01melse\u001b[39;00m:\n\u001b[0;32m    150\u001b[0m         \u001b[38;5;28;01mraise\u001b[39;00m \u001b[38;5;167;01mValueError\u001b[39;00m(\u001b[38;5;124m\"\u001b[39m\u001b[38;5;124mInvalid weights: weights sum to zero\u001b[39m\u001b[38;5;124m\"\u001b[39m)\n\u001b[1;32m--> 152\u001b[0m \u001b[38;5;28;01mreturn\u001b[39;00m \u001b[43mrandom_state\u001b[49m\u001b[38;5;241;43m.\u001b[39;49m\u001b[43mchoice\u001b[49m\u001b[43m(\u001b[49m\u001b[43mobj_len\u001b[49m\u001b[43m,\u001b[49m\u001b[43m \u001b[49m\u001b[43msize\u001b[49m\u001b[38;5;241;43m=\u001b[39;49m\u001b[43msize\u001b[49m\u001b[43m,\u001b[49m\u001b[43m \u001b[49m\u001b[43mreplace\u001b[49m\u001b[38;5;241;43m=\u001b[39;49m\u001b[43mreplace\u001b[49m\u001b[43m,\u001b[49m\u001b[43m \u001b[49m\u001b[43mp\u001b[49m\u001b[38;5;241;43m=\u001b[39;49m\u001b[43mweights\u001b[49m\u001b[43m)\u001b[49m\u001b[38;5;241m.\u001b[39mastype(\n\u001b[0;32m    153\u001b[0m     np\u001b[38;5;241m.\u001b[39mintp, copy\u001b[38;5;241m=\u001b[39m\u001b[38;5;28;01mFalse\u001b[39;00m\n\u001b[0;32m    154\u001b[0m )\n",
      "File \u001b[1;32mnumpy\\\\random\\\\mtrand.pyx:945\u001b[0m, in \u001b[0;36mnumpy.random.mtrand.RandomState.choice\u001b[1;34m()\u001b[0m\n",
      "\u001b[1;31mValueError\u001b[0m: a must be greater than 0 unless no samples are taken"
     ]
    }
   ],
   "source": [
    "normalinstances = df[df.iloc[:, -1] == 'normal']  \n",
    "attackinstances = df[df.iloc[:, -1] != 'normal']\n",
    "\n",
    "normalsampled = normalinstances.sample(n=163319, random_state=42)  \n",
    "\n",
    "balanceddf = pd.concat([normalsampled, attackinstances])\n",
    "\n",
    "balanceddf = balanced_df.sample(frac=1, random_state=42).reset_index(drop=True)\n",
    "\n",
    "balanceddf.to_csv('Training_balanced.csv', index=False)\n",
    "\n",
    "classcounts = balanceddf.iloc[:, -1].value_counts()\n",
    "print(classcounts)"
   ]
  },
  {
   "cell_type": "code",
   "execution_count": 24,
   "id": "1bd9fa15-c13f-4997-814a-ae1e8b33dd7d",
   "metadata": {},
   "outputs": [
    {
     "name": "stdout",
     "output_type": "stream",
     "text": [
      "   0  ?  0.000000000  1393661302.645757000  0.000000000.1  0.000000000.2  \\\n",
      "0  0  0          0.0          1.393664e+09       0.002038       0.002038   \n",
      "1  0  0          0.0          1.393663e+09       0.001106       0.001106   \n",
      "2  0  0          0.0          1.393665e+09       0.000845       0.000845   \n",
      "3  0  0          0.0          1.393664e+09       0.000908       0.000908   \n",
      "4  0  0          0.0          1.393663e+09       0.000583       0.000583   \n",
      "\n",
      "   0.000000000.3   261  261.1  0.1  ...  ?.40  ?.41  ?.42  ?.43  ?.44  ?.45  \\\n",
      "0    2290.327193    98     98    0  ...     0     0     0     0     0     0   \n",
      "1    1446.545525    98     98    0  ...     0     0     0     0     0     0   \n",
      "2    3528.771696  1554   1554    0  ...     1     0     0     0     0     0   \n",
      "3    2221.887398    98     98    0  ...     0     0     0     0     0     0   \n",
      "4    2152.464984   124    124    0  ...     0     0     0     0     0     0   \n",
      "\n",
      "   ?.46  ?.47  ?.48         normal  \n",
      "0     0     0    36  impersonation  \n",
      "1     0     0    36      injection  \n",
      "2     0     0  1490         normal  \n",
      "3     0     0    36  impersonation  \n",
      "4     0     0    60         normal  \n",
      "\n",
      "[5 rows x 155 columns]\n"
     ]
    }
   ],
   "source": [
    "import pandas as pd\n",
    "balancedfilepath = r'C:\\Users\\Kavya\\Documents\\Training_balanced.csv'\n",
    "balanceddf = pd.read_csv(balancedfilepath, low_memory=False)\n",
    "def hex_to_int(x):\n",
    "    if isinstance(x, str) and all(c in '0123456789abcdefABCDEF' for c in x.strip('0x')):\n",
    "        try:\n",
    "            return int(x, 16)  \n",
    "        except ValueError:\n",
    "            return x  \n",
    "    else:\n",
    "        return x  \n",
    "hexcolumns = balanceddf.select_dtypes(include=['object']).columns\n",
    "for col in hexcolumns:\n",
    "    balanceddf[col] = balanceddf[col].apply(hex_to_int)\n",
    "balanceddf.to_csv('Training_balanced_hex_converted.csv', index=False)\n",
    "print(balanceddf.head())\n"
   ]
  },
  {
   "cell_type": "code",
   "execution_count": 27,
   "id": "54d5a1e5-28be-442c-b8fb-0787ab063ba6",
   "metadata": {},
   "outputs": [
    {
     "name": "stderr",
     "output_type": "stream",
     "text": [
      "C:\\Users\\Kavya\\AppData\\Local\\Temp\\ipykernel_20336\\80657108.py:4: DtypeWarning: Columns (87,104) have mixed types. Specify dtype option on import or set low_memory=False.\n",
      "  df = pd.read_csv(convertedfilepath)\n"
     ]
    },
    {
     "name": "stdout",
     "output_type": "stream",
     "text": [
      "     0    ?  0.000000000  1393661302.645757000  0.000000000.1  0.000000000.2  \\\n",
      "0  0.0  0.0          0.0              0.636261       0.006271       0.006271   \n",
      "1  0.0  0.0          0.0              0.401824       0.003402       0.003402   \n",
      "2  0.0  0.0          0.0              0.980352       0.002598       0.002598   \n",
      "3  0.0  0.0          0.0              0.617246       0.002792       0.002792   \n",
      "4  0.0  0.0          0.0              0.597957       0.001792       0.001792   \n",
      "\n",
      "   0.000000000.3       261     261.1  0.1  ...      ?.40  ?.41  ?.42  ?.43  \\\n",
      "0       0.636261  0.037908  0.037908  0.0  ...  0.000000   0.0   0.0   0.0   \n",
      "1       0.401824  0.037908  0.037908  0.0  ...  0.000000   0.0   0.0   0.0   \n",
      "2       0.980352  0.989542  0.989542  0.0  ...  0.166667   0.0   0.0   0.0   \n",
      "3       0.617246  0.037908  0.037908  0.0  ...  0.000000   0.0   0.0   0.0   \n",
      "4       0.597957  0.054902  0.054902  0.0  ...  0.000000   0.0   0.0   0.0   \n",
      "\n",
      "   ?.44  ?.45  ?.46  ?.47      ?.48         normal  \n",
      "0   0.0   0.0   0.0   0.0  0.023873  impersonation  \n",
      "1   0.0   0.0   0.0   0.0  0.023873      injection  \n",
      "2   0.0   0.0   0.0   0.0  0.988064         normal  \n",
      "3   0.0   0.0   0.0   0.0  0.023873  impersonation  \n",
      "4   0.0   0.0   0.0   0.0  0.039788         normal  \n",
      "\n",
      "[5 rows x 155 columns]\n"
     ]
    }
   ],
   "source": [
    "import pandas as pd\n",
    "from sklearn.preprocessing import MinMaxScaler\n",
    "convertedfilepath = 'Training_balanced_hex_converted.csv'\n",
    "df = pd.read_csv(convertedfilepath)\n",
    "numericcolumns = df.select_dtypes(include=['int64', 'float64']).columns\n",
    "scaler = MinMaxScaler()\n",
    "df[numericcolumns] = scaler.fit_transform(df[numericcolumns])\n",
    "df.to_csv('Training_balanced_normalized.csv', index=False)\n",
    "print(df.head())\n"
   ]
  },
  {
   "cell_type": "code",
   "execution_count": 28,
   "id": "7ce34f5b-0f8d-4b38-83a8-572f3c98047a",
   "metadata": {},
   "outputs": [
    {
     "name": "stderr",
     "output_type": "stream",
     "text": [
      "C:\\Users\\Kavya\\AppData\\Local\\Temp\\ipykernel_20336\\2260459293.py:4: DtypeWarning: Columns (87,104) have mixed types. Specify dtype option on import or set low_memory=False.\n",
      "  df = pd.read_csv(file_path)\n"
     ]
    },
    {
     "name": "stdout",
     "output_type": "stream",
     "text": [
      "Subset created with 10,000 instances: 4,000 normal and 6,000 attack.\n"
     ]
    }
   ],
   "source": [
    "import pandas as pd\n",
    "file_path=r'C:\\Users\\Kavya\\Documents\\Training_balanced_normalized.csv'\n",
    "\n",
    "df = pd.read_csv(file_path)\n",
    "columns = [f'attr_{i}' for i in range(1, 155)] + ['class']\n",
    "df.columns = columns\n",
    "\n",
    "normal_instances = df[df['class'] == 'normal']\n",
    "attack_instances = df[df['class'] != 'normal']  \n",
    "normal_sample = normal_instances.sample(n=4000, random_state=46)\n",
    "attack_sample = attack_instances.sample(n=6000, random_state=46)\n",
    "subset = pd.concat([normal_sample, attack_sample])\n",
    "subset.to_csv('subset3_10000.csv', index=False)\n",
    "\n",
    "print(\"Subset created with 10,000 instances: 4,000 normal and 6,000 attack.\")\n"
   ]
  },
  {
   "cell_type": "code",
   "execution_count": 29,
   "id": "c49111e3-d49b-4e57-b0de-1455fe653737",
   "metadata": {},
   "outputs": [
    {
     "data": {
      "text/plain": [
       "attr_1      float64\n",
       "attr_2      float64\n",
       "attr_3      float64\n",
       "attr_4      float64\n",
       "attr_5      float64\n",
       "             ...   \n",
       "attr_151    float64\n",
       "attr_152    float64\n",
       "attr_153    float64\n",
       "attr_154    float64\n",
       "class        object\n",
       "Length: 155, dtype: object"
      ]
     },
     "execution_count": 29,
     "metadata": {},
     "output_type": "execute_result"
    }
   ],
   "source": [
    "df.dtypes"
   ]
  },
  {
   "cell_type": "code",
   "execution_count": 30,
   "id": "f5cc6139-e5f4-4cc7-bf18-160ae199c640",
   "metadata": {},
   "outputs": [],
   "source": [
    "mapping = {'normal' : 0, 'injection': 1, 'flooding' : 2, 'impersonation': 3}\n",
    "df['class'] = df['class'].map(mapping)"
   ]
  },
  {
   "cell_type": "code",
   "execution_count": 47,
   "id": "fcddb502-8116-4cff-8b9e-65c20fed745b",
   "metadata": {},
   "outputs": [
    {
     "data": {
      "text/plain": [
       "class    int64\n",
       "dtype: object"
      ]
     },
     "execution_count": 47,
     "metadata": {},
     "output_type": "execute_result"
    }
   ],
   "source": [
    "df.dtypes[df.dtypes != np.float64]"
   ]
  },
  {
   "cell_type": "code",
   "execution_count": 39,
   "id": "e1f344ef-8023-4405-8288-3c8aaa75b80f",
   "metadata": {},
   "outputs": [],
   "source": [
    "import numpy as np"
   ]
  },
  {
   "cell_type": "code",
   "execution_count": 43,
   "id": "ce7ed905-3f91-41df-a99e-4dd3c13fb682",
   "metadata": {},
   "outputs": [
    {
     "ename": "ValueError",
     "evalue": "could not convert string to float: 'OTE29224e': Error while type casting for column 'attr_119'",
     "output_type": "error",
     "traceback": [
      "\u001b[1;31m---------------------------------------------------------------------------\u001b[0m",
      "\u001b[1;31mValueError\u001b[0m                                Traceback (most recent call last)",
      "Cell \u001b[1;32mIn[43], line 1\u001b[0m\n\u001b[1;32m----> 1\u001b[0m \u001b[43mdf\u001b[49m\u001b[38;5;241;43m.\u001b[39;49m\u001b[43mastype\u001b[49m\u001b[43m(\u001b[49m\u001b[43m{\u001b[49m\u001b[38;5;124;43m'\u001b[39;49m\u001b[38;5;124;43mattr_119\u001b[39;49m\u001b[38;5;124;43m'\u001b[39;49m\u001b[43m:\u001b[49m\u001b[38;5;124;43m'\u001b[39;49m\u001b[38;5;124;43mfloat64\u001b[39;49m\u001b[38;5;124;43m'\u001b[39;49m\u001b[43m}\u001b[49m\u001b[43m)\u001b[49m\n",
      "File \u001b[1;32m~\\AppData\\Roaming\\Python\\Python312\\site-packages\\pandas\\core\\generic.py:6614\u001b[0m, in \u001b[0;36mNDFrame.astype\u001b[1;34m(self, dtype, copy, errors)\u001b[0m\n\u001b[0;32m   6612\u001b[0m \u001b[38;5;28;01melse\u001b[39;00m:\n\u001b[0;32m   6613\u001b[0m     \u001b[38;5;28;01mtry\u001b[39;00m:\n\u001b[1;32m-> 6614\u001b[0m         res_col \u001b[38;5;241m=\u001b[39m \u001b[43mcol\u001b[49m\u001b[38;5;241;43m.\u001b[39;49m\u001b[43mastype\u001b[49m\u001b[43m(\u001b[49m\u001b[43mdtype\u001b[49m\u001b[38;5;241;43m=\u001b[39;49m\u001b[43mcdt\u001b[49m\u001b[43m,\u001b[49m\u001b[43m \u001b[49m\u001b[43mcopy\u001b[49m\u001b[38;5;241;43m=\u001b[39;49m\u001b[43mcopy\u001b[49m\u001b[43m,\u001b[49m\u001b[43m \u001b[49m\u001b[43merrors\u001b[49m\u001b[38;5;241;43m=\u001b[39;49m\u001b[43merrors\u001b[49m\u001b[43m)\u001b[49m\n\u001b[0;32m   6615\u001b[0m     \u001b[38;5;28;01mexcept\u001b[39;00m \u001b[38;5;167;01mValueError\u001b[39;00m \u001b[38;5;28;01mas\u001b[39;00m ex:\n\u001b[0;32m   6616\u001b[0m         ex\u001b[38;5;241m.\u001b[39margs \u001b[38;5;241m=\u001b[39m (\n\u001b[0;32m   6617\u001b[0m             \u001b[38;5;124mf\u001b[39m\u001b[38;5;124m\"\u001b[39m\u001b[38;5;132;01m{\u001b[39;00mex\u001b[38;5;132;01m}\u001b[39;00m\u001b[38;5;124m: Error while type casting for column \u001b[39m\u001b[38;5;124m'\u001b[39m\u001b[38;5;132;01m{\u001b[39;00mcol_name\u001b[38;5;132;01m}\u001b[39;00m\u001b[38;5;124m'\u001b[39m\u001b[38;5;124m\"\u001b[39m,\n\u001b[0;32m   6618\u001b[0m         )\n",
      "File \u001b[1;32m~\\AppData\\Roaming\\Python\\Python312\\site-packages\\pandas\\core\\generic.py:6637\u001b[0m, in \u001b[0;36mNDFrame.astype\u001b[1;34m(self, dtype, copy, errors)\u001b[0m\n\u001b[0;32m   6631\u001b[0m     results \u001b[38;5;241m=\u001b[39m [\n\u001b[0;32m   6632\u001b[0m         ser\u001b[38;5;241m.\u001b[39mastype(dtype, copy\u001b[38;5;241m=\u001b[39mcopy, errors\u001b[38;5;241m=\u001b[39merrors) \u001b[38;5;28;01mfor\u001b[39;00m _, ser \u001b[38;5;129;01min\u001b[39;00m \u001b[38;5;28mself\u001b[39m\u001b[38;5;241m.\u001b[39mitems()\n\u001b[0;32m   6633\u001b[0m     ]\n\u001b[0;32m   6635\u001b[0m \u001b[38;5;28;01melse\u001b[39;00m:\n\u001b[0;32m   6636\u001b[0m     \u001b[38;5;66;03m# else, only a single dtype is given\u001b[39;00m\n\u001b[1;32m-> 6637\u001b[0m     new_data \u001b[38;5;241m=\u001b[39m \u001b[38;5;28;43mself\u001b[39;49m\u001b[38;5;241;43m.\u001b[39;49m\u001b[43m_mgr\u001b[49m\u001b[38;5;241;43m.\u001b[39;49m\u001b[43mastype\u001b[49m\u001b[43m(\u001b[49m\u001b[43mdtype\u001b[49m\u001b[38;5;241;43m=\u001b[39;49m\u001b[43mdtype\u001b[49m\u001b[43m,\u001b[49m\u001b[43m \u001b[49m\u001b[43mcopy\u001b[49m\u001b[38;5;241;43m=\u001b[39;49m\u001b[43mcopy\u001b[49m\u001b[43m,\u001b[49m\u001b[43m \u001b[49m\u001b[43merrors\u001b[49m\u001b[38;5;241;43m=\u001b[39;49m\u001b[43merrors\u001b[49m\u001b[43m)\u001b[49m\n\u001b[0;32m   6638\u001b[0m     res \u001b[38;5;241m=\u001b[39m \u001b[38;5;28mself\u001b[39m\u001b[38;5;241m.\u001b[39m_constructor_from_mgr(new_data, axes\u001b[38;5;241m=\u001b[39mnew_data\u001b[38;5;241m.\u001b[39maxes)\n\u001b[0;32m   6639\u001b[0m     \u001b[38;5;28;01mreturn\u001b[39;00m res\u001b[38;5;241m.\u001b[39m__finalize__(\u001b[38;5;28mself\u001b[39m, method\u001b[38;5;241m=\u001b[39m\u001b[38;5;124m\"\u001b[39m\u001b[38;5;124mastype\u001b[39m\u001b[38;5;124m\"\u001b[39m)\n",
      "File \u001b[1;32m~\\AppData\\Roaming\\Python\\Python312\\site-packages\\pandas\\core\\internals\\managers.py:431\u001b[0m, in \u001b[0;36mBaseBlockManager.astype\u001b[1;34m(self, dtype, copy, errors)\u001b[0m\n\u001b[0;32m    428\u001b[0m \u001b[38;5;28;01melif\u001b[39;00m using_copy_on_write():\n\u001b[0;32m    429\u001b[0m     copy \u001b[38;5;241m=\u001b[39m \u001b[38;5;28;01mFalse\u001b[39;00m\n\u001b[1;32m--> 431\u001b[0m \u001b[38;5;28;01mreturn\u001b[39;00m \u001b[38;5;28;43mself\u001b[39;49m\u001b[38;5;241;43m.\u001b[39;49m\u001b[43mapply\u001b[49m\u001b[43m(\u001b[49m\n\u001b[0;32m    432\u001b[0m \u001b[43m    \u001b[49m\u001b[38;5;124;43m\"\u001b[39;49m\u001b[38;5;124;43mastype\u001b[39;49m\u001b[38;5;124;43m\"\u001b[39;49m\u001b[43m,\u001b[49m\n\u001b[0;32m    433\u001b[0m \u001b[43m    \u001b[49m\u001b[43mdtype\u001b[49m\u001b[38;5;241;43m=\u001b[39;49m\u001b[43mdtype\u001b[49m\u001b[43m,\u001b[49m\n\u001b[0;32m    434\u001b[0m \u001b[43m    \u001b[49m\u001b[43mcopy\u001b[49m\u001b[38;5;241;43m=\u001b[39;49m\u001b[43mcopy\u001b[49m\u001b[43m,\u001b[49m\n\u001b[0;32m    435\u001b[0m \u001b[43m    \u001b[49m\u001b[43merrors\u001b[49m\u001b[38;5;241;43m=\u001b[39;49m\u001b[43merrors\u001b[49m\u001b[43m,\u001b[49m\n\u001b[0;32m    436\u001b[0m \u001b[43m    \u001b[49m\u001b[43musing_cow\u001b[49m\u001b[38;5;241;43m=\u001b[39;49m\u001b[43musing_copy_on_write\u001b[49m\u001b[43m(\u001b[49m\u001b[43m)\u001b[49m\u001b[43m,\u001b[49m\n\u001b[0;32m    437\u001b[0m \u001b[43m\u001b[49m\u001b[43m)\u001b[49m\n",
      "File \u001b[1;32m~\\AppData\\Roaming\\Python\\Python312\\site-packages\\pandas\\core\\internals\\managers.py:364\u001b[0m, in \u001b[0;36mBaseBlockManager.apply\u001b[1;34m(self, f, align_keys, **kwargs)\u001b[0m\n\u001b[0;32m    362\u001b[0m         applied \u001b[38;5;241m=\u001b[39m b\u001b[38;5;241m.\u001b[39mapply(f, \u001b[38;5;241m*\u001b[39m\u001b[38;5;241m*\u001b[39mkwargs)\n\u001b[0;32m    363\u001b[0m     \u001b[38;5;28;01melse\u001b[39;00m:\n\u001b[1;32m--> 364\u001b[0m         applied \u001b[38;5;241m=\u001b[39m \u001b[38;5;28;43mgetattr\u001b[39;49m\u001b[43m(\u001b[49m\u001b[43mb\u001b[49m\u001b[43m,\u001b[49m\u001b[43m \u001b[49m\u001b[43mf\u001b[49m\u001b[43m)\u001b[49m\u001b[43m(\u001b[49m\u001b[38;5;241;43m*\u001b[39;49m\u001b[38;5;241;43m*\u001b[39;49m\u001b[43mkwargs\u001b[49m\u001b[43m)\u001b[49m\n\u001b[0;32m    365\u001b[0m     result_blocks \u001b[38;5;241m=\u001b[39m extend_blocks(applied, result_blocks)\n\u001b[0;32m    367\u001b[0m out \u001b[38;5;241m=\u001b[39m \u001b[38;5;28mtype\u001b[39m(\u001b[38;5;28mself\u001b[39m)\u001b[38;5;241m.\u001b[39mfrom_blocks(result_blocks, \u001b[38;5;28mself\u001b[39m\u001b[38;5;241m.\u001b[39maxes)\n",
      "File \u001b[1;32m~\\AppData\\Roaming\\Python\\Python312\\site-packages\\pandas\\core\\internals\\blocks.py:758\u001b[0m, in \u001b[0;36mBlock.astype\u001b[1;34m(self, dtype, copy, errors, using_cow, squeeze)\u001b[0m\n\u001b[0;32m    755\u001b[0m         \u001b[38;5;28;01mraise\u001b[39;00m \u001b[38;5;167;01mValueError\u001b[39;00m(\u001b[38;5;124m\"\u001b[39m\u001b[38;5;124mCan not squeeze with more than one column.\u001b[39m\u001b[38;5;124m\"\u001b[39m)\n\u001b[0;32m    756\u001b[0m     values \u001b[38;5;241m=\u001b[39m values[\u001b[38;5;241m0\u001b[39m, :]  \u001b[38;5;66;03m# type: ignore[call-overload]\u001b[39;00m\n\u001b[1;32m--> 758\u001b[0m new_values \u001b[38;5;241m=\u001b[39m \u001b[43mastype_array_safe\u001b[49m\u001b[43m(\u001b[49m\u001b[43mvalues\u001b[49m\u001b[43m,\u001b[49m\u001b[43m \u001b[49m\u001b[43mdtype\u001b[49m\u001b[43m,\u001b[49m\u001b[43m \u001b[49m\u001b[43mcopy\u001b[49m\u001b[38;5;241;43m=\u001b[39;49m\u001b[43mcopy\u001b[49m\u001b[43m,\u001b[49m\u001b[43m \u001b[49m\u001b[43merrors\u001b[49m\u001b[38;5;241;43m=\u001b[39;49m\u001b[43merrors\u001b[49m\u001b[43m)\u001b[49m\n\u001b[0;32m    760\u001b[0m new_values \u001b[38;5;241m=\u001b[39m maybe_coerce_values(new_values)\n\u001b[0;32m    762\u001b[0m refs \u001b[38;5;241m=\u001b[39m \u001b[38;5;28;01mNone\u001b[39;00m\n",
      "File \u001b[1;32m~\\AppData\\Roaming\\Python\\Python312\\site-packages\\pandas\\core\\dtypes\\astype.py:237\u001b[0m, in \u001b[0;36mastype_array_safe\u001b[1;34m(values, dtype, copy, errors)\u001b[0m\n\u001b[0;32m    234\u001b[0m     dtype \u001b[38;5;241m=\u001b[39m dtype\u001b[38;5;241m.\u001b[39mnumpy_dtype\n\u001b[0;32m    236\u001b[0m \u001b[38;5;28;01mtry\u001b[39;00m:\n\u001b[1;32m--> 237\u001b[0m     new_values \u001b[38;5;241m=\u001b[39m \u001b[43mastype_array\u001b[49m\u001b[43m(\u001b[49m\u001b[43mvalues\u001b[49m\u001b[43m,\u001b[49m\u001b[43m \u001b[49m\u001b[43mdtype\u001b[49m\u001b[43m,\u001b[49m\u001b[43m \u001b[49m\u001b[43mcopy\u001b[49m\u001b[38;5;241;43m=\u001b[39;49m\u001b[43mcopy\u001b[49m\u001b[43m)\u001b[49m\n\u001b[0;32m    238\u001b[0m \u001b[38;5;28;01mexcept\u001b[39;00m (\u001b[38;5;167;01mValueError\u001b[39;00m, \u001b[38;5;167;01mTypeError\u001b[39;00m):\n\u001b[0;32m    239\u001b[0m     \u001b[38;5;66;03m# e.g. _astype_nansafe can fail on object-dtype of strings\u001b[39;00m\n\u001b[0;32m    240\u001b[0m     \u001b[38;5;66;03m#  trying to convert to float\u001b[39;00m\n\u001b[0;32m    241\u001b[0m     \u001b[38;5;28;01mif\u001b[39;00m errors \u001b[38;5;241m==\u001b[39m \u001b[38;5;124m\"\u001b[39m\u001b[38;5;124mignore\u001b[39m\u001b[38;5;124m\"\u001b[39m:\n",
      "File \u001b[1;32m~\\AppData\\Roaming\\Python\\Python312\\site-packages\\pandas\\core\\dtypes\\astype.py:182\u001b[0m, in \u001b[0;36mastype_array\u001b[1;34m(values, dtype, copy)\u001b[0m\n\u001b[0;32m    179\u001b[0m     values \u001b[38;5;241m=\u001b[39m values\u001b[38;5;241m.\u001b[39mastype(dtype, copy\u001b[38;5;241m=\u001b[39mcopy)\n\u001b[0;32m    181\u001b[0m \u001b[38;5;28;01melse\u001b[39;00m:\n\u001b[1;32m--> 182\u001b[0m     values \u001b[38;5;241m=\u001b[39m \u001b[43m_astype_nansafe\u001b[49m\u001b[43m(\u001b[49m\u001b[43mvalues\u001b[49m\u001b[43m,\u001b[49m\u001b[43m \u001b[49m\u001b[43mdtype\u001b[49m\u001b[43m,\u001b[49m\u001b[43m \u001b[49m\u001b[43mcopy\u001b[49m\u001b[38;5;241;43m=\u001b[39;49m\u001b[43mcopy\u001b[49m\u001b[43m)\u001b[49m\n\u001b[0;32m    184\u001b[0m \u001b[38;5;66;03m# in pandas we don't store numpy str dtypes, so convert to object\u001b[39;00m\n\u001b[0;32m    185\u001b[0m \u001b[38;5;28;01mif\u001b[39;00m \u001b[38;5;28misinstance\u001b[39m(dtype, np\u001b[38;5;241m.\u001b[39mdtype) \u001b[38;5;129;01mand\u001b[39;00m \u001b[38;5;28missubclass\u001b[39m(values\u001b[38;5;241m.\u001b[39mdtype\u001b[38;5;241m.\u001b[39mtype, \u001b[38;5;28mstr\u001b[39m):\n",
      "File \u001b[1;32m~\\AppData\\Roaming\\Python\\Python312\\site-packages\\pandas\\core\\dtypes\\astype.py:133\u001b[0m, in \u001b[0;36m_astype_nansafe\u001b[1;34m(arr, dtype, copy, skipna)\u001b[0m\n\u001b[0;32m    129\u001b[0m     \u001b[38;5;28;01mraise\u001b[39;00m \u001b[38;5;167;01mValueError\u001b[39;00m(msg)\n\u001b[0;32m    131\u001b[0m \u001b[38;5;28;01mif\u001b[39;00m copy \u001b[38;5;129;01mor\u001b[39;00m arr\u001b[38;5;241m.\u001b[39mdtype \u001b[38;5;241m==\u001b[39m \u001b[38;5;28mobject\u001b[39m \u001b[38;5;129;01mor\u001b[39;00m dtype \u001b[38;5;241m==\u001b[39m \u001b[38;5;28mobject\u001b[39m:\n\u001b[0;32m    132\u001b[0m     \u001b[38;5;66;03m# Explicit copy, or required since NumPy can't view from / to object.\u001b[39;00m\n\u001b[1;32m--> 133\u001b[0m     \u001b[38;5;28;01mreturn\u001b[39;00m \u001b[43marr\u001b[49m\u001b[38;5;241;43m.\u001b[39;49m\u001b[43mastype\u001b[49m\u001b[43m(\u001b[49m\u001b[43mdtype\u001b[49m\u001b[43m,\u001b[49m\u001b[43m \u001b[49m\u001b[43mcopy\u001b[49m\u001b[38;5;241;43m=\u001b[39;49m\u001b[38;5;28;43;01mTrue\u001b[39;49;00m\u001b[43m)\u001b[49m\n\u001b[0;32m    135\u001b[0m \u001b[38;5;28;01mreturn\u001b[39;00m arr\u001b[38;5;241m.\u001b[39mastype(dtype, copy\u001b[38;5;241m=\u001b[39mcopy)\n",
      "\u001b[1;31mValueError\u001b[0m: could not convert string to float: 'OTE29224e': Error while type casting for column 'attr_119'"
     ]
    }
   ],
   "source": [
    "df.astype({'attr_119':'float64'})"
   ]
  },
  {
   "cell_type": "code",
   "execution_count": 41,
   "id": "9967c651-43b0-49e3-b8d3-62168dc731ed",
   "metadata": {},
   "outputs": [
    {
     "name": "stdout",
     "output_type": "stream",
     "text": [
      "        attr_1  attr_2  attr_3    attr_4    attr_5    attr_6    attr_7  \\\n",
      "0          0.0     0.0     0.0  0.636261  0.006271  0.006271  0.636261   \n",
      "1          0.0     0.0     0.0  0.401824  0.003402  0.003402  0.401824   \n",
      "2          0.0     0.0     0.0  0.980352  0.002598  0.002598  0.980352   \n",
      "3          0.0     0.0     0.0  0.617246  0.002792  0.002792  0.617246   \n",
      "4          0.0     0.0     0.0  0.597957  0.001792  0.001792  0.597957   \n",
      "...        ...     ...     ...       ...       ...       ...       ...   \n",
      "325699     0.0     0.0     0.0  0.735276  0.012707  0.012707  0.735276   \n",
      "325700     0.0     0.0     0.0  0.654874  0.006680  0.006680  0.654874   \n",
      "325701     0.0     0.0     0.0  0.547204  0.001302  0.001302  0.547204   \n",
      "325702     0.0     0.0     0.0  0.512545  0.001444  0.001444  0.512545   \n",
      "325703     0.0     0.0     0.0  0.986082  0.002881  0.002881  0.986082   \n",
      "\n",
      "          attr_8    attr_9  attr_10  ...  attr_146  attr_147  attr_148  \\\n",
      "0       0.037908  0.037908      0.0  ...  0.000000       0.0       0.0   \n",
      "1       0.037908  0.037908      0.0  ...  0.000000       0.0       0.0   \n",
      "2       0.989542  0.989542      0.0  ...  0.166667       0.0       0.0   \n",
      "3       0.037908  0.037908      0.0  ...  0.000000       0.0       0.0   \n",
      "4       0.054902  0.054902      0.0  ...  0.000000       0.0       0.0   \n",
      "...          ...       ...      ...  ...       ...       ...       ...   \n",
      "325699  0.009150  0.009150      0.0  ...  0.000000       0.0       0.0   \n",
      "325700  0.010458  0.010458      0.0  ...  0.000000       0.0       0.0   \n",
      "325701  0.981699  0.981699      0.0  ...  0.166667       0.0       0.0   \n",
      "325702  0.988235  0.988235      0.0  ...  0.166667       0.0       0.0   \n",
      "325703  0.057516  0.057516      0.0  ...  0.166667       0.0       0.0   \n",
      "\n",
      "        attr_149  attr_150  attr_151  attr_152  attr_153  attr_154  class  \n",
      "0            0.0       0.0       0.0       0.0       0.0  0.023873      3  \n",
      "1            0.0       0.0       0.0       0.0       0.0  0.023873      1  \n",
      "2            0.0       0.0       0.0       0.0       0.0  0.988064      0  \n",
      "3            0.0       0.0       0.0       0.0       0.0  0.023873      3  \n",
      "4            0.0       0.0       0.0       0.0       0.0  0.039788      0  \n",
      "...          ...       ...       ...       ...       ...       ...    ...  \n",
      "325699       0.0       0.0       0.0       0.0       0.0  0.000000      0  \n",
      "325700       0.0       0.0       0.0       0.0       0.0  0.000000      2  \n",
      "325701       0.0       0.0       0.0       0.0       0.0  0.980106      0  \n",
      "325702       0.0       0.0       0.0       0.0       0.0  0.986737      0  \n",
      "325703       0.0       0.0       0.0       0.0       0.0  0.042440      0  \n",
      "\n",
      "[325704 rows x 150 columns]\n"
     ]
    },
    {
     "name": "stderr",
     "output_type": "stream",
     "text": [
      "C:\\Users\\Kavya\\AppData\\Local\\Temp\\ipykernel_20336\\957205619.py:8: FutureWarning: A value is trying to be set on a copy of a DataFrame or Series through chained assignment using an inplace method.\n",
      "The behavior will change in pandas 3.0. This inplace method will never work because the intermediate object on which we are setting values always behaves as a copy.\n",
      "\n",
      "For example, when doing 'df[col].method(value, inplace=True)', try using 'df.method({col: value}, inplace=True)' or df[col] = df[col].method(value) instead, to perform the operation inplace on the original object.\n",
      "\n",
      "\n",
      "  df['attr_88'].fillna(average_value, inplace=True)\n"
     ]
    }
   ],
   "source": [
    "\n",
    "# Step 1: Convert to numeric, forcing non-convertible values to NaN\n",
    "df['attr_88'] = pd.to_numeric(df['attr_88'], errors='coerce')\n",
    "\n",
    "# Step 2: Calculate the average of the valid values\n",
    "average_value = df['attr_88'].mean()\n",
    "\n",
    "# Step 3: Replace NaN values with the average\n",
    "df['attr_88'].fillna(average_value, inplace=True)\n",
    "\n",
    "# If you want to ensure the column is of type float\n",
    "df['attr_88'] = df['attr_88'].astype('float64')\n",
    "\n",
    "# Check the result\n",
    "print(df)\n"
   ]
  },
  {
   "cell_type": "code",
   "execution_count": 37,
   "id": "d2fd4f11-4995-4d1d-93b1-4729ccac68cc",
   "metadata": {},
   "outputs": [],
   "source": [
    "cols_to_drop = [f'attr_{i}' for i in range(76,81)]\n",
    "df.drop(columns = cols_to_drop, inplace = True)"
   ]
  },
  {
   "cell_type": "code",
   "execution_count": 45,
   "id": "e3b16b7f-e999-4b01-af38-f4028107f9a8",
   "metadata": {},
   "outputs": [
    {
     "data": {
      "text/plain": [
       "3371"
      ]
     },
     "execution_count": 45,
     "metadata": {},
     "output_type": "execute_result"
    }
   ],
   "source": [
    "len(df['attr_119'].unique())"
   ]
  },
  {
   "cell_type": "code",
   "execution_count": 46,
   "id": "04b8ad37-d84b-4a81-93d3-df5dad711583",
   "metadata": {},
   "outputs": [],
   "source": [
    "cols_to_drop = ['attr_119']\n",
    "df.drop(columns = cols_to_drop, inplace = True)"
   ]
  },
  {
   "cell_type": "code",
   "execution_count": 48,
   "id": "51a8cd3b-6979-42dd-aa4d-296093c424e2",
   "metadata": {},
   "outputs": [
    {
     "name": "stdout",
     "output_type": "stream",
     "text": [
      "   attr_1  attr_2  attr_3    attr_4    attr_5    attr_6    attr_7    attr_8  \\\n",
      "0     0.0     0.0     0.0  0.636261  0.006271  0.006271  0.636261  0.037908   \n",
      "1     0.0     0.0     0.0  0.401824  0.003402  0.003402  0.401824  0.037908   \n",
      "2     0.0     0.0     0.0  0.980352  0.002598  0.002598  0.980352  0.989542   \n",
      "3     0.0     0.0     0.0  0.617246  0.002792  0.002792  0.617246  0.037908   \n",
      "4     0.0     0.0     0.0  0.597957  0.001792  0.001792  0.597957  0.054902   \n",
      "\n",
      "     attr_9  attr_10  ...  attr_146  attr_147  attr_148  attr_149  attr_150  \\\n",
      "0  0.037908      0.0  ...  0.000000       0.0       0.0       0.0       0.0   \n",
      "1  0.037908      0.0  ...  0.000000       0.0       0.0       0.0       0.0   \n",
      "2  0.989542      0.0  ...  0.166667       0.0       0.0       0.0       0.0   \n",
      "3  0.037908      0.0  ...  0.000000       0.0       0.0       0.0       0.0   \n",
      "4  0.054902      0.0  ...  0.000000       0.0       0.0       0.0       0.0   \n",
      "\n",
      "   attr_151  attr_152  attr_153  attr_154  class  \n",
      "0       0.0       0.0       0.0  0.023873      3  \n",
      "1       0.0       0.0       0.0  0.023873      1  \n",
      "2       0.0       0.0       0.0  0.988064      0  \n",
      "3       0.0       0.0       0.0  0.023873      3  \n",
      "4       0.0       0.0       0.0  0.039788      0  \n",
      "\n",
      "[5 rows x 149 columns]\n"
     ]
    }
   ],
   "source": [
    "df.to_csv('Training_balanced_normalized_preprocessed.csv', index=False)\n",
    "print(df.head())"
   ]
  },
  {
   "cell_type": "code",
   "execution_count": 49,
   "id": "12164f94-3dd2-4080-aa44-53856e551ee0",
   "metadata": {},
   "outputs": [
    {
     "data": {
      "text/plain": [
       "(325704, 149)"
      ]
     },
     "execution_count": 49,
     "metadata": {},
     "output_type": "execute_result"
    }
   ],
   "source": [
    "df.shape"
   ]
  },
  {
   "cell_type": "code",
   "execution_count": null,
   "id": "3609399c-e2f5-4856-bfae-feb6d1e9c872",
   "metadata": {},
   "outputs": [],
   "source": [
    "# import pandas as pd\n",
    "# file_path=r'C:\\Users\\Kavya\\Documents\\Training_balanced_normalized.csv'\n",
    "\n",
    "# df = pd.read_csv(file_path)\n",
    "# columns = [f'attr_{i}' for i in range(1, 155)] + ['class']\n",
    "# df.columns = columns\n",
    "\n",
    "normal_instances = df[df['class'] == 0]\n",
    "attack_instances = df[df['class'] != 0]  \n",
    "normal_sample = normal_instances.sample(n=4000, random_state=44)\n",
    "attack_sample = attack_instances.sample(n=6000, random_state=44)\n",
    "subset = pd.concat([normal_sample, attack_sample])\n",
    "subset.to_csv('Preprocessed_set3_10000.csv', index=False)\n",
    "\n",
    "print(\"Subset created with 10,000 instances: 4,000 normal and 6,000 attack.\")\n"
   ]
  },
  {
   "cell_type": "code",
   "execution_count": null,
   "id": "0e92db5b-136c-488f-bfbc-7cdb9eb5d7a6",
   "metadata": {},
   "outputs": [],
   "source": []
  }
 ],
 "metadata": {
  "kernelspec": {
   "display_name": "Python 3 (ipykernel)",
   "language": "python",
   "name": "python3"
  },
  "language_info": {
   "codemirror_mode": {
    "name": "ipython",
    "version": 3
   },
   "file_extension": ".py",
   "mimetype": "text/x-python",
   "name": "python",
   "nbconvert_exporter": "python",
   "pygments_lexer": "ipython3",
   "version": "3.12.0"
  }
 },
 "nbformat": 4,
 "nbformat_minor": 5
}
